{
  "nbformat": 4,
  "nbformat_minor": 0,
  "metadata": {
    "colab": {
      "name": "Cleaning_Feature_Extraction_3.ipynb",
      "provenance": [],
      "collapsed_sections": [
        "ULFFjh7wErhm",
        "058JAeX8eerD",
        "68w1iQmRfAZk",
        "cvEXlklQhFqT",
        "HL7OC9AB5bNR",
        "9-SUps9v5fPe"
      ]
    },
    "kernelspec": {
      "name": "python3",
      "display_name": "Python 3"
    },
    "language_info": {
      "name": "python"
    }
  },
  "cells": [
    {
      "cell_type": "markdown",
      "source": [
        "#### Importing Libraries & Loading Data"
      ],
      "metadata": {
        "id": "ULFFjh7wErhm"
      }
    },
    {
      "cell_type": "markdown",
      "source": [
        "This notebook is likely to crash the VM. Run the notebook in chunks and save the vectors to a file"
      ],
      "metadata": {
        "id": "ajAeg3jNrG6i"
      }
    },
    {
      "cell_type": "code",
      "execution_count": null,
      "metadata": {
        "colab": {
          "base_uri": "https://localhost:8080/"
        },
        "id": "IAsTQrm6AKUL",
        "outputId": "176538f3-d864-4227-df3f-863e112b56d6"
      },
      "outputs": [
        {
          "output_type": "stream",
          "name": "stdout",
          "text": [
            "Drive already mounted at /content/drive; to attempt to forcibly remount, call drive.mount(\"/content/drive\", force_remount=True).\n"
          ]
        }
      ],
      "source": [
        "#This ipynb was developed on Google Colab and uses file from Google Drive\n",
        "from google.colab import drive\n",
        "drive.mount('/content/drive')"
      ]
    },
    {
      "cell_type": "code",
      "source": [
        "import numpy as np\n",
        "import pandas as pd\n",
        "\n",
        "from tqdm import tqdm\n",
        "import spacy\n",
        "import gensim.downloader as api\n",
        "from gensim.models.keyedvectors import KeyedVectors\n",
        "from scipy import spatial"
      ],
      "metadata": {
        "id": "PGjzBhN1AN40"
      },
      "execution_count": null,
      "outputs": []
    },
    {
      "cell_type": "code",
      "source": [
        "parent_folder = \"/content/drive/MyDrive/AAIC/Projects/Quora Question Pairs\"\n",
        "filename = \"train_fe_2.csv\"\n",
        "df = pd.read_csv(parent_folder + \"/\" + filename)"
      ],
      "metadata": {
        "id": "DWtglZM2BG4V"
      },
      "execution_count": null,
      "outputs": []
    },
    {
      "cell_type": "code",
      "source": [
        "df.head(2)"
      ],
      "metadata": {
        "colab": {
          "base_uri": "https://localhost:8080/",
          "height": 362
        },
        "id": "IpXg51vXBITy",
        "outputId": "c045f975-f5bb-46c3-8018-410de9e102eb"
      },
      "execution_count": null,
      "outputs": [
        {
          "output_type": "execute_result",
          "data": {
            "text/plain": [
              "   Unnamed: 0  Unnamed: 0.1  id  qid1  qid2  \\\n",
              "0           0             0   0     1     2   \n",
              "1           1             1   1     3     4   \n",
              "\n",
              "                                           question1  \\\n",
              "0  what is the step by step guide to invest in sh...   \n",
              "1  what is the story of kohinoor koh i noor diamond    \n",
              "\n",
              "                                           question2  is_duplicate  \\\n",
              "0  what is the step by step guide to invest in sh...             0   \n",
              "1  what would happen if the indian government sto...             0   \n",
              "\n",
              "   length_difference  unique_length_difference  ...   cwc_min   cwc_max  \\\n",
              "0                  2                         1  ...  0.916659  0.785709   \n",
              "1                  5                         4  ...  0.699993  0.466664   \n",
              "\n",
              "    cnc_min   cnc_max  last_word_equal  first_word_equal  fuzz_ratio  \\\n",
              "0  0.999980  0.833319                0                 1          93   \n",
              "1  0.799984  0.399996                0                 1          65   \n",
              "\n",
              "   fuzz_partial_ratio  fuzz_token_sort_ratio  fuzz_token_set_ratio  \n",
              "0                 100                     93                   100  \n",
              "1                  73                     63                    86  \n",
              "\n",
              "[2 rows x 22 columns]"
            ],
            "text/html": [
              "\n",
              "  <div id=\"df-34c08784-48fd-4c35-b780-30f44825ec2d\">\n",
              "    <div class=\"colab-df-container\">\n",
              "      <div>\n",
              "<style scoped>\n",
              "    .dataframe tbody tr th:only-of-type {\n",
              "        vertical-align: middle;\n",
              "    }\n",
              "\n",
              "    .dataframe tbody tr th {\n",
              "        vertical-align: top;\n",
              "    }\n",
              "\n",
              "    .dataframe thead th {\n",
              "        text-align: right;\n",
              "    }\n",
              "</style>\n",
              "<table border=\"1\" class=\"dataframe\">\n",
              "  <thead>\n",
              "    <tr style=\"text-align: right;\">\n",
              "      <th></th>\n",
              "      <th>Unnamed: 0</th>\n",
              "      <th>Unnamed: 0.1</th>\n",
              "      <th>id</th>\n",
              "      <th>qid1</th>\n",
              "      <th>qid2</th>\n",
              "      <th>question1</th>\n",
              "      <th>question2</th>\n",
              "      <th>is_duplicate</th>\n",
              "      <th>length_difference</th>\n",
              "      <th>unique_length_difference</th>\n",
              "      <th>...</th>\n",
              "      <th>cwc_min</th>\n",
              "      <th>cwc_max</th>\n",
              "      <th>cnc_min</th>\n",
              "      <th>cnc_max</th>\n",
              "      <th>last_word_equal</th>\n",
              "      <th>first_word_equal</th>\n",
              "      <th>fuzz_ratio</th>\n",
              "      <th>fuzz_partial_ratio</th>\n",
              "      <th>fuzz_token_sort_ratio</th>\n",
              "      <th>fuzz_token_set_ratio</th>\n",
              "    </tr>\n",
              "  </thead>\n",
              "  <tbody>\n",
              "    <tr>\n",
              "      <th>0</th>\n",
              "      <td>0</td>\n",
              "      <td>0</td>\n",
              "      <td>0</td>\n",
              "      <td>1</td>\n",
              "      <td>2</td>\n",
              "      <td>what is the step by step guide to invest in sh...</td>\n",
              "      <td>what is the step by step guide to invest in sh...</td>\n",
              "      <td>0</td>\n",
              "      <td>2</td>\n",
              "      <td>1</td>\n",
              "      <td>...</td>\n",
              "      <td>0.916659</td>\n",
              "      <td>0.785709</td>\n",
              "      <td>0.999980</td>\n",
              "      <td>0.833319</td>\n",
              "      <td>0</td>\n",
              "      <td>1</td>\n",
              "      <td>93</td>\n",
              "      <td>100</td>\n",
              "      <td>93</td>\n",
              "      <td>100</td>\n",
              "    </tr>\n",
              "    <tr>\n",
              "      <th>1</th>\n",
              "      <td>1</td>\n",
              "      <td>1</td>\n",
              "      <td>1</td>\n",
              "      <td>3</td>\n",
              "      <td>4</td>\n",
              "      <td>what is the story of kohinoor koh i noor diamond</td>\n",
              "      <td>what would happen if the indian government sto...</td>\n",
              "      <td>0</td>\n",
              "      <td>5</td>\n",
              "      <td>4</td>\n",
              "      <td>...</td>\n",
              "      <td>0.699993</td>\n",
              "      <td>0.466664</td>\n",
              "      <td>0.799984</td>\n",
              "      <td>0.399996</td>\n",
              "      <td>0</td>\n",
              "      <td>1</td>\n",
              "      <td>65</td>\n",
              "      <td>73</td>\n",
              "      <td>63</td>\n",
              "      <td>86</td>\n",
              "    </tr>\n",
              "  </tbody>\n",
              "</table>\n",
              "<p>2 rows × 22 columns</p>\n",
              "</div>\n",
              "      <button class=\"colab-df-convert\" onclick=\"convertToInteractive('df-34c08784-48fd-4c35-b780-30f44825ec2d')\"\n",
              "              title=\"Convert this dataframe to an interactive table.\"\n",
              "              style=\"display:none;\">\n",
              "        \n",
              "  <svg xmlns=\"http://www.w3.org/2000/svg\" height=\"24px\"viewBox=\"0 0 24 24\"\n",
              "       width=\"24px\">\n",
              "    <path d=\"M0 0h24v24H0V0z\" fill=\"none\"/>\n",
              "    <path d=\"M18.56 5.44l.94 2.06.94-2.06 2.06-.94-2.06-.94-.94-2.06-.94 2.06-2.06.94zm-11 1L8.5 8.5l.94-2.06 2.06-.94-2.06-.94L8.5 2.5l-.94 2.06-2.06.94zm10 10l.94 2.06.94-2.06 2.06-.94-2.06-.94-.94-2.06-.94 2.06-2.06.94z\"/><path d=\"M17.41 7.96l-1.37-1.37c-.4-.4-.92-.59-1.43-.59-.52 0-1.04.2-1.43.59L10.3 9.45l-7.72 7.72c-.78.78-.78 2.05 0 2.83L4 21.41c.39.39.9.59 1.41.59.51 0 1.02-.2 1.41-.59l7.78-7.78 2.81-2.81c.8-.78.8-2.07 0-2.86zM5.41 20L4 18.59l7.72-7.72 1.47 1.35L5.41 20z\"/>\n",
              "  </svg>\n",
              "      </button>\n",
              "      \n",
              "  <style>\n",
              "    .colab-df-container {\n",
              "      display:flex;\n",
              "      flex-wrap:wrap;\n",
              "      gap: 12px;\n",
              "    }\n",
              "\n",
              "    .colab-df-convert {\n",
              "      background-color: #E8F0FE;\n",
              "      border: none;\n",
              "      border-radius: 50%;\n",
              "      cursor: pointer;\n",
              "      display: none;\n",
              "      fill: #1967D2;\n",
              "      height: 32px;\n",
              "      padding: 0 0 0 0;\n",
              "      width: 32px;\n",
              "    }\n",
              "\n",
              "    .colab-df-convert:hover {\n",
              "      background-color: #E2EBFA;\n",
              "      box-shadow: 0px 1px 2px rgba(60, 64, 67, 0.3), 0px 1px 3px 1px rgba(60, 64, 67, 0.15);\n",
              "      fill: #174EA6;\n",
              "    }\n",
              "\n",
              "    [theme=dark] .colab-df-convert {\n",
              "      background-color: #3B4455;\n",
              "      fill: #D2E3FC;\n",
              "    }\n",
              "\n",
              "    [theme=dark] .colab-df-convert:hover {\n",
              "      background-color: #434B5C;\n",
              "      box-shadow: 0px 1px 3px 1px rgba(0, 0, 0, 0.15);\n",
              "      filter: drop-shadow(0px 1px 2px rgba(0, 0, 0, 0.3));\n",
              "      fill: #FFFFFF;\n",
              "    }\n",
              "  </style>\n",
              "\n",
              "      <script>\n",
              "        const buttonEl =\n",
              "          document.querySelector('#df-34c08784-48fd-4c35-b780-30f44825ec2d button.colab-df-convert');\n",
              "        buttonEl.style.display =\n",
              "          google.colab.kernel.accessAllowed ? 'block' : 'none';\n",
              "\n",
              "        async function convertToInteractive(key) {\n",
              "          const element = document.querySelector('#df-34c08784-48fd-4c35-b780-30f44825ec2d');\n",
              "          const dataTable =\n",
              "            await google.colab.kernel.invokeFunction('convertToInteractive',\n",
              "                                                     [key], {});\n",
              "          if (!dataTable) return;\n",
              "\n",
              "          const docLinkHtml = 'Like what you see? Visit the ' +\n",
              "            '<a target=\"_blank\" href=https://colab.research.google.com/notebooks/data_table.ipynb>data table notebook</a>'\n",
              "            + ' to learn more about interactive tables.';\n",
              "          element.innerHTML = '';\n",
              "          dataTable['output_type'] = 'display_data';\n",
              "          await google.colab.output.renderOutput(dataTable, element);\n",
              "          const docLink = document.createElement('div');\n",
              "          docLink.innerHTML = docLinkHtml;\n",
              "          element.appendChild(docLink);\n",
              "        }\n",
              "      </script>\n",
              "    </div>\n",
              "  </div>\n",
              "  "
            ]
          },
          "metadata": {},
          "execution_count": 4
        }
      ]
    },
    {
      "cell_type": "code",
      "source": [
        "# converting questions to string as a safety measure\n",
        "df['question1'] = df['question1'].apply(lambda x: str(x))\n",
        "df['question2'] = df['question2'].apply(lambda x: str(x))"
      ],
      "metadata": {
        "id": "v1u92qbOBL1S"
      },
      "execution_count": null,
      "outputs": []
    },
    {
      "cell_type": "markdown",
      "source": [
        "#### Loading embedding models"
      ],
      "metadata": {
        "id": "058JAeX8eerD"
      }
    },
    {
      "cell_type": "code",
      "source": [
        "!python -m spacy download en_core_web_lg\n",
        "# !python -m spacy download en_core_web_sm\n",
        "# !python -m spacy download en_core_web_md\n",
        "!python -m spacy download en"
      ],
      "metadata": {
        "colab": {
          "base_uri": "https://localhost:8080/"
        },
        "id": "PLV5FKpfBbka",
        "outputId": "5267c72c-087e-40fe-ac0b-8eea8c919f09"
      },
      "execution_count": null,
      "outputs": [
        {
          "output_type": "stream",
          "name": "stdout",
          "text": [
            "Looking in indexes: https://pypi.org/simple, https://us-python.pkg.dev/colab-wheels/public/simple/\n",
            "Collecting en_core_web_lg==2.2.5\n",
            "  Downloading https://github.com/explosion/spacy-models/releases/download/en_core_web_lg-2.2.5/en_core_web_lg-2.2.5.tar.gz (827.9 MB)\n",
            "\u001b[K     |████████████████████████████████| 827.9 MB 1.2 MB/s \n",
            "\u001b[?25hRequirement already satisfied: spacy>=2.2.2 in /usr/local/lib/python3.7/dist-packages (from en_core_web_lg==2.2.5) (2.2.4)\n",
            "Requirement already satisfied: setuptools in /usr/local/lib/python3.7/dist-packages (from spacy>=2.2.2->en_core_web_lg==2.2.5) (57.4.0)\n",
            "Requirement already satisfied: numpy>=1.15.0 in /usr/local/lib/python3.7/dist-packages (from spacy>=2.2.2->en_core_web_lg==2.2.5) (1.21.6)\n",
            "Requirement already satisfied: thinc==7.4.0 in /usr/local/lib/python3.7/dist-packages (from spacy>=2.2.2->en_core_web_lg==2.2.5) (7.4.0)\n",
            "Requirement already satisfied: srsly<1.1.0,>=1.0.2 in /usr/local/lib/python3.7/dist-packages (from spacy>=2.2.2->en_core_web_lg==2.2.5) (1.0.5)\n",
            "Requirement already satisfied: preshed<3.1.0,>=3.0.2 in /usr/local/lib/python3.7/dist-packages (from spacy>=2.2.2->en_core_web_lg==2.2.5) (3.0.6)\n",
            "Requirement already satisfied: wasabi<1.1.0,>=0.4.0 in /usr/local/lib/python3.7/dist-packages (from spacy>=2.2.2->en_core_web_lg==2.2.5) (0.9.1)\n",
            "Requirement already satisfied: plac<1.2.0,>=0.9.6 in /usr/local/lib/python3.7/dist-packages (from spacy>=2.2.2->en_core_web_lg==2.2.5) (1.1.3)\n",
            "Requirement already satisfied: requests<3.0.0,>=2.13.0 in /usr/local/lib/python3.7/dist-packages (from spacy>=2.2.2->en_core_web_lg==2.2.5) (2.23.0)\n",
            "Requirement already satisfied: murmurhash<1.1.0,>=0.28.0 in /usr/local/lib/python3.7/dist-packages (from spacy>=2.2.2->en_core_web_lg==2.2.5) (1.0.7)\n",
            "Requirement already satisfied: tqdm<5.0.0,>=4.38.0 in /usr/local/lib/python3.7/dist-packages (from spacy>=2.2.2->en_core_web_lg==2.2.5) (4.64.0)\n",
            "Requirement already satisfied: cymem<2.1.0,>=2.0.2 in /usr/local/lib/python3.7/dist-packages (from spacy>=2.2.2->en_core_web_lg==2.2.5) (2.0.6)\n",
            "Requirement already satisfied: blis<0.5.0,>=0.4.0 in /usr/local/lib/python3.7/dist-packages (from spacy>=2.2.2->en_core_web_lg==2.2.5) (0.4.1)\n",
            "Requirement already satisfied: catalogue<1.1.0,>=0.0.7 in /usr/local/lib/python3.7/dist-packages (from spacy>=2.2.2->en_core_web_lg==2.2.5) (1.0.0)\n",
            "Requirement already satisfied: importlib-metadata>=0.20 in /usr/local/lib/python3.7/dist-packages (from catalogue<1.1.0,>=0.0.7->spacy>=2.2.2->en_core_web_lg==2.2.5) (4.11.3)\n",
            "Requirement already satisfied: zipp>=0.5 in /usr/local/lib/python3.7/dist-packages (from importlib-metadata>=0.20->catalogue<1.1.0,>=0.0.7->spacy>=2.2.2->en_core_web_lg==2.2.5) (3.8.0)\n",
            "Requirement already satisfied: typing-extensions>=3.6.4 in /usr/local/lib/python3.7/dist-packages (from importlib-metadata>=0.20->catalogue<1.1.0,>=0.0.7->spacy>=2.2.2->en_core_web_lg==2.2.5) (4.2.0)\n",
            "Requirement already satisfied: idna<3,>=2.5 in /usr/local/lib/python3.7/dist-packages (from requests<3.0.0,>=2.13.0->spacy>=2.2.2->en_core_web_lg==2.2.5) (2.10)\n",
            "Requirement already satisfied: chardet<4,>=3.0.2 in /usr/local/lib/python3.7/dist-packages (from requests<3.0.0,>=2.13.0->spacy>=2.2.2->en_core_web_lg==2.2.5) (3.0.4)\n",
            "Requirement already satisfied: urllib3!=1.25.0,!=1.25.1,<1.26,>=1.21.1 in /usr/local/lib/python3.7/dist-packages (from requests<3.0.0,>=2.13.0->spacy>=2.2.2->en_core_web_lg==2.2.5) (1.24.3)\n",
            "Requirement already satisfied: certifi>=2017.4.17 in /usr/local/lib/python3.7/dist-packages (from requests<3.0.0,>=2.13.0->spacy>=2.2.2->en_core_web_lg==2.2.5) (2022.5.18.1)\n",
            "\u001b[38;5;2m✔ Download and installation successful\u001b[0m\n",
            "You can now load the model via spacy.load('en_core_web_lg')\n",
            "Looking in indexes: https://pypi.org/simple, https://us-python.pkg.dev/colab-wheels/public/simple/\n",
            "Collecting en_core_web_sm==2.2.5\n",
            "  Downloading https://github.com/explosion/spacy-models/releases/download/en_core_web_sm-2.2.5/en_core_web_sm-2.2.5.tar.gz (12.0 MB)\n",
            "\u001b[K     |████████████████████████████████| 12.0 MB 5.1 MB/s \n",
            "\u001b[?25hRequirement already satisfied: spacy>=2.2.2 in /usr/local/lib/python3.7/dist-packages (from en_core_web_sm==2.2.5) (2.2.4)\n",
            "Requirement already satisfied: srsly<1.1.0,>=1.0.2 in /usr/local/lib/python3.7/dist-packages (from spacy>=2.2.2->en_core_web_sm==2.2.5) (1.0.5)\n",
            "Requirement already satisfied: setuptools in /usr/local/lib/python3.7/dist-packages (from spacy>=2.2.2->en_core_web_sm==2.2.5) (57.4.0)\n",
            "Requirement already satisfied: requests<3.0.0,>=2.13.0 in /usr/local/lib/python3.7/dist-packages (from spacy>=2.2.2->en_core_web_sm==2.2.5) (2.23.0)\n",
            "Requirement already satisfied: catalogue<1.1.0,>=0.0.7 in /usr/local/lib/python3.7/dist-packages (from spacy>=2.2.2->en_core_web_sm==2.2.5) (1.0.0)\n",
            "Requirement already satisfied: cymem<2.1.0,>=2.0.2 in /usr/local/lib/python3.7/dist-packages (from spacy>=2.2.2->en_core_web_sm==2.2.5) (2.0.6)\n",
            "Requirement already satisfied: blis<0.5.0,>=0.4.0 in /usr/local/lib/python3.7/dist-packages (from spacy>=2.2.2->en_core_web_sm==2.2.5) (0.4.1)\n",
            "Requirement already satisfied: murmurhash<1.1.0,>=0.28.0 in /usr/local/lib/python3.7/dist-packages (from spacy>=2.2.2->en_core_web_sm==2.2.5) (1.0.7)\n",
            "Requirement already satisfied: preshed<3.1.0,>=3.0.2 in /usr/local/lib/python3.7/dist-packages (from spacy>=2.2.2->en_core_web_sm==2.2.5) (3.0.6)\n",
            "Requirement already satisfied: numpy>=1.15.0 in /usr/local/lib/python3.7/dist-packages (from spacy>=2.2.2->en_core_web_sm==2.2.5) (1.21.6)\n",
            "Requirement already satisfied: tqdm<5.0.0,>=4.38.0 in /usr/local/lib/python3.7/dist-packages (from spacy>=2.2.2->en_core_web_sm==2.2.5) (4.64.0)\n",
            "Requirement already satisfied: plac<1.2.0,>=0.9.6 in /usr/local/lib/python3.7/dist-packages (from spacy>=2.2.2->en_core_web_sm==2.2.5) (1.1.3)\n",
            "Requirement already satisfied: thinc==7.4.0 in /usr/local/lib/python3.7/dist-packages (from spacy>=2.2.2->en_core_web_sm==2.2.5) (7.4.0)\n",
            "Requirement already satisfied: wasabi<1.1.0,>=0.4.0 in /usr/local/lib/python3.7/dist-packages (from spacy>=2.2.2->en_core_web_sm==2.2.5) (0.9.1)\n",
            "Requirement already satisfied: importlib-metadata>=0.20 in /usr/local/lib/python3.7/dist-packages (from catalogue<1.1.0,>=0.0.7->spacy>=2.2.2->en_core_web_sm==2.2.5) (4.11.3)\n",
            "Requirement already satisfied: typing-extensions>=3.6.4 in /usr/local/lib/python3.7/dist-packages (from importlib-metadata>=0.20->catalogue<1.1.0,>=0.0.7->spacy>=2.2.2->en_core_web_sm==2.2.5) (4.2.0)\n",
            "Requirement already satisfied: zipp>=0.5 in /usr/local/lib/python3.7/dist-packages (from importlib-metadata>=0.20->catalogue<1.1.0,>=0.0.7->spacy>=2.2.2->en_core_web_sm==2.2.5) (3.8.0)\n",
            "Requirement already satisfied: chardet<4,>=3.0.2 in /usr/local/lib/python3.7/dist-packages (from requests<3.0.0,>=2.13.0->spacy>=2.2.2->en_core_web_sm==2.2.5) (3.0.4)\n",
            "Requirement already satisfied: idna<3,>=2.5 in /usr/local/lib/python3.7/dist-packages (from requests<3.0.0,>=2.13.0->spacy>=2.2.2->en_core_web_sm==2.2.5) (2.10)\n",
            "Requirement already satisfied: urllib3!=1.25.0,!=1.25.1,<1.26,>=1.21.1 in /usr/local/lib/python3.7/dist-packages (from requests<3.0.0,>=2.13.0->spacy>=2.2.2->en_core_web_sm==2.2.5) (1.24.3)\n",
            "Requirement already satisfied: certifi>=2017.4.17 in /usr/local/lib/python3.7/dist-packages (from requests<3.0.0,>=2.13.0->spacy>=2.2.2->en_core_web_sm==2.2.5) (2022.5.18.1)\n",
            "\u001b[38;5;2m✔ Download and installation successful\u001b[0m\n",
            "You can now load the model via spacy.load('en_core_web_sm')\n",
            "\u001b[38;5;2m✔ Linking successful\u001b[0m\n",
            "/usr/local/lib/python3.7/dist-packages/en_core_web_sm -->\n",
            "/usr/local/lib/python3.7/dist-packages/spacy/data/en\n",
            "You can now load the model via spacy.load('en')\n"
          ]
        }
      ]
    },
    {
      "cell_type": "code",
      "source": [
        "# nlp = spacy.load('en')\n",
        "spacy_model = spacy.load('en_core_web_lg')"
      ],
      "metadata": {
        "id": "Uq7Voov9BhsK"
      },
      "execution_count": null,
      "outputs": []
    },
    {
      "cell_type": "code",
      "source": [
        "# path = api.load(\"word2vec-google-news-300\", return_path=True)\n",
        "# print(path)\n",
        "\n",
        "# gensim_model = KeyedVectors.load_word2vec_format(path, binary=True)"
      ],
      "metadata": {
        "id": "Wb3Q5CS9KKw3"
      },
      "execution_count": null,
      "outputs": []
    },
    {
      "cell_type": "markdown",
      "source": [
        "#### Checking results of spacy and gensim using cosine similarity"
      ],
      "metadata": {
        "id": "68w1iQmRfAZk"
      }
    },
    {
      "cell_type": "code",
      "source": [
        "df[['question1', 'question2']][:10]"
      ],
      "metadata": {
        "colab": {
          "base_uri": "https://localhost:8080/",
          "height": 363
        },
        "id": "Mf2RySs2fIu0",
        "outputId": "2f2db983-79b7-432e-9973-b3ce3766b42c"
      },
      "execution_count": null,
      "outputs": [
        {
          "output_type": "execute_result",
          "data": {
            "text/plain": [
              "                                           question1  \\\n",
              "0  what is the step by step guide to invest in sh...   \n",
              "1  what is the story of kohinoor koh i noor diamond    \n",
              "2  how can i increase the speed of my internet co...   \n",
              "3  why am i mentally very lonely how can i solve it    \n",
              "4  which one dissolve in water quikly sugar salt ...   \n",
              "5  astrology i am a capricorn sun cap moon and ca...   \n",
              "6                                should i buy tiago    \n",
              "7                     how can i be a good geologist    \n",
              "8                        when do you use instead of    \n",
              "9  motorola company can i hack my charter motorol...   \n",
              "\n",
              "                                           question2  \n",
              "0  what is the step by step guide to invest in sh...  \n",
              "1  what would happen if the indian government sto...  \n",
              "2  how can internet speed be increased by hacking...  \n",
              "3  find the remainder when math 23 24 math is div...  \n",
              "4            which fish would survive in salt water   \n",
              "5  i am a triple capricorn sun moon and ascendant...  \n",
              "6  what keeps childern active and far from phone ...  \n",
              "7          what should i do to be a great geologist   \n",
              "8                    when do you use instead of and   \n",
              "9  how do i hack motorola dcx3400 for free internet   "
            ],
            "text/html": [
              "\n",
              "  <div id=\"df-5d5bc899-7792-43c6-be82-726fd0b0ed0b\">\n",
              "    <div class=\"colab-df-container\">\n",
              "      <div>\n",
              "<style scoped>\n",
              "    .dataframe tbody tr th:only-of-type {\n",
              "        vertical-align: middle;\n",
              "    }\n",
              "\n",
              "    .dataframe tbody tr th {\n",
              "        vertical-align: top;\n",
              "    }\n",
              "\n",
              "    .dataframe thead th {\n",
              "        text-align: right;\n",
              "    }\n",
              "</style>\n",
              "<table border=\"1\" class=\"dataframe\">\n",
              "  <thead>\n",
              "    <tr style=\"text-align: right;\">\n",
              "      <th></th>\n",
              "      <th>question1</th>\n",
              "      <th>question2</th>\n",
              "    </tr>\n",
              "  </thead>\n",
              "  <tbody>\n",
              "    <tr>\n",
              "      <th>0</th>\n",
              "      <td>what is the step by step guide to invest in sh...</td>\n",
              "      <td>what is the step by step guide to invest in sh...</td>\n",
              "    </tr>\n",
              "    <tr>\n",
              "      <th>1</th>\n",
              "      <td>what is the story of kohinoor koh i noor diamond</td>\n",
              "      <td>what would happen if the indian government sto...</td>\n",
              "    </tr>\n",
              "    <tr>\n",
              "      <th>2</th>\n",
              "      <td>how can i increase the speed of my internet co...</td>\n",
              "      <td>how can internet speed be increased by hacking...</td>\n",
              "    </tr>\n",
              "    <tr>\n",
              "      <th>3</th>\n",
              "      <td>why am i mentally very lonely how can i solve it</td>\n",
              "      <td>find the remainder when math 23 24 math is div...</td>\n",
              "    </tr>\n",
              "    <tr>\n",
              "      <th>4</th>\n",
              "      <td>which one dissolve in water quikly sugar salt ...</td>\n",
              "      <td>which fish would survive in salt water</td>\n",
              "    </tr>\n",
              "    <tr>\n",
              "      <th>5</th>\n",
              "      <td>astrology i am a capricorn sun cap moon and ca...</td>\n",
              "      <td>i am a triple capricorn sun moon and ascendant...</td>\n",
              "    </tr>\n",
              "    <tr>\n",
              "      <th>6</th>\n",
              "      <td>should i buy tiago</td>\n",
              "      <td>what keeps childern active and far from phone ...</td>\n",
              "    </tr>\n",
              "    <tr>\n",
              "      <th>7</th>\n",
              "      <td>how can i be a good geologist</td>\n",
              "      <td>what should i do to be a great geologist</td>\n",
              "    </tr>\n",
              "    <tr>\n",
              "      <th>8</th>\n",
              "      <td>when do you use instead of</td>\n",
              "      <td>when do you use instead of and</td>\n",
              "    </tr>\n",
              "    <tr>\n",
              "      <th>9</th>\n",
              "      <td>motorola company can i hack my charter motorol...</td>\n",
              "      <td>how do i hack motorola dcx3400 for free internet</td>\n",
              "    </tr>\n",
              "  </tbody>\n",
              "</table>\n",
              "</div>\n",
              "      <button class=\"colab-df-convert\" onclick=\"convertToInteractive('df-5d5bc899-7792-43c6-be82-726fd0b0ed0b')\"\n",
              "              title=\"Convert this dataframe to an interactive table.\"\n",
              "              style=\"display:none;\">\n",
              "        \n",
              "  <svg xmlns=\"http://www.w3.org/2000/svg\" height=\"24px\"viewBox=\"0 0 24 24\"\n",
              "       width=\"24px\">\n",
              "    <path d=\"M0 0h24v24H0V0z\" fill=\"none\"/>\n",
              "    <path d=\"M18.56 5.44l.94 2.06.94-2.06 2.06-.94-2.06-.94-.94-2.06-.94 2.06-2.06.94zm-11 1L8.5 8.5l.94-2.06 2.06-.94-2.06-.94L8.5 2.5l-.94 2.06-2.06.94zm10 10l.94 2.06.94-2.06 2.06-.94-2.06-.94-.94-2.06-.94 2.06-2.06.94z\"/><path d=\"M17.41 7.96l-1.37-1.37c-.4-.4-.92-.59-1.43-.59-.52 0-1.04.2-1.43.59L10.3 9.45l-7.72 7.72c-.78.78-.78 2.05 0 2.83L4 21.41c.39.39.9.59 1.41.59.51 0 1.02-.2 1.41-.59l7.78-7.78 2.81-2.81c.8-.78.8-2.07 0-2.86zM5.41 20L4 18.59l7.72-7.72 1.47 1.35L5.41 20z\"/>\n",
              "  </svg>\n",
              "      </button>\n",
              "      \n",
              "  <style>\n",
              "    .colab-df-container {\n",
              "      display:flex;\n",
              "      flex-wrap:wrap;\n",
              "      gap: 12px;\n",
              "    }\n",
              "\n",
              "    .colab-df-convert {\n",
              "      background-color: #E8F0FE;\n",
              "      border: none;\n",
              "      border-radius: 50%;\n",
              "      cursor: pointer;\n",
              "      display: none;\n",
              "      fill: #1967D2;\n",
              "      height: 32px;\n",
              "      padding: 0 0 0 0;\n",
              "      width: 32px;\n",
              "    }\n",
              "\n",
              "    .colab-df-convert:hover {\n",
              "      background-color: #E2EBFA;\n",
              "      box-shadow: 0px 1px 2px rgba(60, 64, 67, 0.3), 0px 1px 3px 1px rgba(60, 64, 67, 0.15);\n",
              "      fill: #174EA6;\n",
              "    }\n",
              "\n",
              "    [theme=dark] .colab-df-convert {\n",
              "      background-color: #3B4455;\n",
              "      fill: #D2E3FC;\n",
              "    }\n",
              "\n",
              "    [theme=dark] .colab-df-convert:hover {\n",
              "      background-color: #434B5C;\n",
              "      box-shadow: 0px 1px 3px 1px rgba(0, 0, 0, 0.15);\n",
              "      filter: drop-shadow(0px 1px 2px rgba(0, 0, 0, 0.3));\n",
              "      fill: #FFFFFF;\n",
              "    }\n",
              "  </style>\n",
              "\n",
              "      <script>\n",
              "        const buttonEl =\n",
              "          document.querySelector('#df-5d5bc899-7792-43c6-be82-726fd0b0ed0b button.colab-df-convert');\n",
              "        buttonEl.style.display =\n",
              "          google.colab.kernel.accessAllowed ? 'block' : 'none';\n",
              "\n",
              "        async function convertToInteractive(key) {\n",
              "          const element = document.querySelector('#df-5d5bc899-7792-43c6-be82-726fd0b0ed0b');\n",
              "          const dataTable =\n",
              "            await google.colab.kernel.invokeFunction('convertToInteractive',\n",
              "                                                     [key], {});\n",
              "          if (!dataTable) return;\n",
              "\n",
              "          const docLinkHtml = 'Like what you see? Visit the ' +\n",
              "            '<a target=\"_blank\" href=https://colab.research.google.com/notebooks/data_table.ipynb>data table notebook</a>'\n",
              "            + ' to learn more about interactive tables.';\n",
              "          element.innerHTML = '';\n",
              "          dataTable['output_type'] = 'display_data';\n",
              "          await google.colab.output.renderOutput(dataTable, element);\n",
              "          const docLink = document.createElement('div');\n",
              "          docLink.innerHTML = docLinkHtml;\n",
              "          element.appendChild(docLink);\n",
              "        }\n",
              "      </script>\n",
              "    </div>\n",
              "  </div>\n",
              "  "
            ]
          },
          "metadata": {},
          "execution_count": 9
        }
      ]
    },
    {
      "cell_type": "markdown",
      "source": [
        "##### Spacy"
      ],
      "metadata": {
        "id": "mWgw-8d0hB2F"
      }
    },
    {
      "cell_type": "code",
      "source": [
        "# vecs1 = []\n",
        "# for qu1 in tqdm(list(df['question1'][:10])):\n",
        "#     doc1 = spacy_model(qu1)\n",
        "#     # print(doc1)\n",
        "#     mean_vec1 = np.zeros(len(doc1[0].vector))\n",
        "#     # print(mean_vec1.shape)\n",
        "#     for word1 in doc1:\n",
        "#         # word1vec\n",
        "#         vec1 = word1.vector\n",
        "#         # print(f\"For {word1} : {vec1}\")\n",
        "#         # print()\n",
        "#         # print()\n",
        "#         # compute final vec\n",
        "#         mean_vec1 += vec1\n",
        "    \n",
        "#     # print(mean_vec1)\n",
        "#     # print()\n",
        "#     # print()\n",
        "#     mean_vec1 = mean_vec1/len(qu1.split())\n",
        "#     # print(mean_vec1)\n",
        "#     vecs1.append(mean_vec1)\n",
        "# # print(vecs1)\n",
        "\n",
        "# from tqdm import tqdm\n",
        "# vecs2 = []\n",
        "# for qu2 in tqdm(list(df['question2'][:10])):\n",
        "#     doc2 = spacy_model(qu2)\n",
        "#     mean_vec2 = np.zeros(len(doc2[0].vector))\n",
        "\n",
        "#     for word2 in doc2:\n",
        "#         vec2 = word2.vector\n",
        "#         # compute final vec\n",
        "#         mean_vec2 += vec2\n",
        "\n",
        "#     mean_vec2 = mean_vec2/len(qu2.split())\n",
        "#     vecs2.append(mean_vec2)\n",
        "# # print(vecs2)"
      ],
      "metadata": {
        "id": "x62cmLNsRVne"
      },
      "execution_count": null,
      "outputs": []
    },
    {
      "cell_type": "code",
      "source": [
        "# result = [1 - spatial.distance.cosine(vecs1[q_index], vecs2[q_index]) for q_index in range(len(vecs1))]\n",
        "# print(f\"Cosine similarity for first 10 questions using spacy : {result}\")"
      ],
      "metadata": {
        "id": "yjwbVXzTRmwN"
      },
      "execution_count": null,
      "outputs": []
    },
    {
      "cell_type": "markdown",
      "source": [
        "##### Gensim"
      ],
      "metadata": {
        "id": "cvEXlklQhFqT"
      }
    },
    {
      "cell_type": "code",
      "source": [
        "# # average Word2Vec\n",
        "# w2v_words = list(gensim_model.wv.vocab)\n",
        "# que_vectors1 = [];\n",
        "# for que in tqdm(list(df['question1'][:10])):\n",
        "#     que_vec = np.zeros(300)\n",
        "#     cnt_words =0;\n",
        "#     for word in que:\n",
        "#         if word in w2v_words:\n",
        "#             vec = gensim_model.wv[word]\n",
        "#             que_vec += vec\n",
        "#             cnt_words += 1\n",
        "#     if cnt_words != 0:\n",
        "#         que_vec /= cnt_words\n",
        "#     que_vectors1.append(que_vec)\n",
        "\n",
        "# # average Word2Vec\n",
        "# w2v_words = list(gensim_model.wv.vocab)\n",
        "# que_vectors2 = [];\n",
        "# for que in tqdm(list(df['question2'][:10])):\n",
        "#     que_vec = np.zeros(300) \n",
        "#     cnt_words =0;\n",
        "#     for word in que:\n",
        "#         if word in w2v_words:\n",
        "#             vec = gensim_model.wv[word]\n",
        "#             que_vec += vec\n",
        "#             cnt_words += 1\n",
        "#     if cnt_words != 0:\n",
        "#         que_vec /= cnt_words\n",
        "#     que_vectors2.append(que_vec)"
      ],
      "metadata": {
        "id": "Np8I2XOdTkRS"
      },
      "execution_count": null,
      "outputs": []
    },
    {
      "cell_type": "code",
      "source": [
        "# result = [1 - spatial.distance.cosine(que_vectors1[q_index], que_vectors2[q_index]) for q_index in range(len(vecs1))]\n",
        "# print(f\"Cosine distances for first 10 similarity using gensim : {result}\")"
      ],
      "metadata": {
        "id": "w36vBLh7Ug2M"
      },
      "execution_count": null,
      "outputs": []
    },
    {
      "cell_type": "markdown",
      "source": [
        "#### Converting question1 and question2 into vectors using spacy"
      ],
      "metadata": {
        "id": "tKctuKozggRH"
      }
    },
    {
      "cell_type": "markdown",
      "source": [
        "Following code block can take around 2-3 hours to run. The output vectors are saved for future use."
      ],
      "metadata": {
        "id": "5ttn6iNHz667"
      }
    },
    {
      "cell_type": "markdown",
      "source": [
        "##### question1"
      ],
      "metadata": {
        "id": "HL7OC9AB5bNR"
      }
    },
    {
      "cell_type": "code",
      "source": [
        "q1_vectors = []\n",
        "for question in tqdm(list(df['question1'])):\n",
        "    doc = spacy_model(question)\n",
        "    mean_vec = np.zeros(len(doc[0].vector))\n",
        "    for word in doc:\n",
        "        # wordvec\n",
        "        vec = word.vector\n",
        "        mean_vec += vec\n",
        "\n",
        "    mean_vec = mean_vec/len(question.split())\n",
        "    q1_vectors.append(mean_vec)"
      ],
      "metadata": {
        "colab": {
          "base_uri": "https://localhost:8080/"
        },
        "id": "D_Gg7_WGgnpS",
        "outputId": "6720e83b-317c-45f2-cec4-f4feea7db2f1"
      },
      "execution_count": null,
      "outputs": [
        {
          "output_type": "stream",
          "name": "stderr",
          "text": [
            "  1%|          | 3293/404290 [00:24<44:39, 149.68it/s]/usr/local/lib/python3.7/dist-packages/ipykernel_launcher.py:10: RuntimeWarning: invalid value encountered in true_divide\n",
            "  # Remove the CWD from sys.path while we load stuff.\n",
            "100%|██████████| 404290/404290 [49:16<00:00, 136.76it/s]\n"
          ]
        }
      ]
    },
    {
      "cell_type": "code",
      "source": [
        "print(\"Sanity check\")\n",
        "print(f\"Total questions : {len(df['question1'])}\")\n",
        "print(f\"Total vectors : {len(q1_vectors)}\")\n",
        "# print(\"Vector for first question : \")\n",
        "# q1_vectors[0]"
      ],
      "metadata": {
        "colab": {
          "base_uri": "https://localhost:8080/"
        },
        "id": "R_apzA5-3Wco",
        "outputId": "aee22910-d626-4b15-ecb2-58328d62d114"
      },
      "execution_count": null,
      "outputs": [
        {
          "output_type": "stream",
          "name": "stdout",
          "text": [
            "Sanity check\n",
            "Total questions : 404290\n",
            "Total vectors : 404290\n"
          ]
        }
      ]
    },
    {
      "cell_type": "code",
      "source": [
        "q1_vectors = np.array(q1_vectors)\n",
        "np.savetxt(parent_folder + \"/\" + \"q1_vectors.csv\", q1_vectors, fmt='%f', delimiter=\",\")"
      ],
      "metadata": {
        "id": "a2IzqzOJlyfX"
      },
      "execution_count": null,
      "outputs": []
    },
    {
      "cell_type": "code",
      "source": [
        "column_names = ['q1_'+str(i) for i in range(1,301)]\n",
        "df = pd.concat([df, pd.read_csv(parent_folder + \"/\" + \"q1_vectors.csv\", names=column_names)], axis='columns')"
      ],
      "metadata": {
        "id": "n7jrJQOD6BYt"
      },
      "execution_count": null,
      "outputs": []
    },
    {
      "cell_type": "markdown",
      "source": [
        "##### question2"
      ],
      "metadata": {
        "id": "9-SUps9v5fPe"
      }
    },
    {
      "cell_type": "code",
      "source": [
        "q2_vectors = []\n",
        "for question in tqdm(list(df['question2'])):\n",
        "    doc = spacy_model(question)\n",
        "    mean_vec = np.zeros(len(doc[0].vector))\n",
        "    for word in doc:\n",
        "        # wordvec\n",
        "        vec = word.vector\n",
        "        mean_vec += vec\n",
        "\n",
        "    mean_vec = mean_vec/len(question.split())\n",
        "    q2_vectors.append(mean_vec)"
      ],
      "metadata": {
        "colab": {
          "base_uri": "https://localhost:8080/"
        },
        "id": "I7MPcldZ3ky_",
        "outputId": "38374b99-a929-4ffd-df2d-381a876cc0fb"
      },
      "execution_count": null,
      "outputs": [
        {
          "output_type": "stream",
          "name": "stderr",
          "text": [
            "  5%|▍         | 20066/404290 [02:23<48:46, 131.27it/s]/usr/local/lib/python3.7/dist-packages/ipykernel_launcher.py:10: RuntimeWarning: invalid value encountered in true_divide\n",
            "  # Remove the CWD from sys.path while we load stuff.\n",
            "100%|██████████| 404290/404290 [48:57<00:00, 137.62it/s]\n"
          ]
        }
      ]
    },
    {
      "cell_type": "code",
      "source": [
        "print(\"Sanity check\")\n",
        "print(f\"Total questions : {len(df['question2'])}\")\n",
        "print(f\"Total vectors : {len(q2_vectors)}\")\n",
        "# print(\"Vector for first question : \")\n",
        "# q2_vectors[0]"
      ],
      "metadata": {
        "colab": {
          "base_uri": "https://localhost:8080/"
        },
        "id": "8_EY19Yx4WMB",
        "outputId": "622b359b-bd65-4f08-dffc-adeed86bbc4c"
      },
      "execution_count": null,
      "outputs": [
        {
          "output_type": "stream",
          "name": "stdout",
          "text": [
            "Sanity check\n",
            "Total questions : 404290\n",
            "Total vectors : 404290\n"
          ]
        }
      ]
    },
    {
      "cell_type": "code",
      "source": [
        "q2_vectors = np.array(q2_vectors)\n",
        "np.savetxt(parent_folder + \"/\" + \"q2_vectors.csv\", q2_vectors, fmt='%f', delimiter=\",\")"
      ],
      "metadata": {
        "id": "4yhEfjdgPnAx"
      },
      "execution_count": null,
      "outputs": []
    },
    {
      "cell_type": "code",
      "source": [
        "column_names = ['q2_'+str(i) for i in range(1,301)]\n",
        "df = pd.concat([df, pd.read_csv(parent_folder + \"/\" + \"q2_vectors.csv\", names=column_names)], axis='columns')"
      ],
      "metadata": {
        "id": "bbUfO8yf7WGd"
      },
      "execution_count": null,
      "outputs": []
    },
    {
      "cell_type": "markdown",
      "source": [
        "#### Calculating cosine similarity"
      ],
      "metadata": {
        "id": "Ptij99zu5wVf"
      }
    },
    {
      "cell_type": "code",
      "source": [
        "total = df.shape[0]\n",
        "chunk_size = 10000\n",
        "total_chunks = total//chunk_size\n",
        "remainder = total%chunk_size"
      ],
      "metadata": {
        "id": "uG1q3v-3fDg8"
      },
      "execution_count": null,
      "outputs": []
    },
    {
      "cell_type": "code",
      "source": [
        "parent_folder = \"/content/drive/MyDrive/AAIC/Projects/Quora Question Pairs\"\n",
        "cosine_similarity = []\n",
        "for chunk in tqdm(range(total_chunks)):\n",
        "    skip_header = chunk*chunk_size\n",
        "    skip_footer = total - ((chunk*chunk_size) + chunk_size)\n",
        "\n",
        "    #print(skip_header, skip_footer)\n",
        "    q1 = np.genfromtxt(parent_folder + \"/\" + \"q1_vectors.csv\", delimiter=',', skip_header=skip_header, skip_footer=skip_footer)\n",
        "    q2 = np.genfromtxt(parent_folder + \"/\" + \"q2_vectors.csv\", delimiter=',', skip_header=skip_header, skip_footer=skip_footer)\n",
        "    result = [1 - spatial.distance.cosine(q1[q_index], q2[q_index]) for q_index in range(len(q1))]\n",
        "    cosine_similarity.extend(result)\n",
        "\n",
        "skip_header = total_chunks*chunk_size\n",
        "q1 = np.genfromtxt(parent_folder + \"/\" + \"q1_vectors.csv\", delimiter=',', skip_header=skip_header)\n",
        "q2 = np.genfromtxt(parent_folder + \"/\" + \"q2_vectors.csv\", delimiter=',', skip_header=skip_header)\n",
        "result = [1 - spatial.distance.cosine(q1[q_index], q2[q_index]) for q_index in range(len(q1))]\n",
        "cosine_similarity.extend(result)"
      ],
      "metadata": {
        "colab": {
          "base_uri": "https://localhost:8080/"
        },
        "id": "DWBWAeB2ox5H",
        "outputId": "d6057419-255f-412e-d776-b62f07f9106a"
      },
      "execution_count": null,
      "outputs": [
        {
          "output_type": "stream",
          "name": "stderr",
          "text": [
            " 18%|█▊        | 7/40 [05:03<23:08, 42.06s/it]/usr/local/lib/python3.7/dist-packages/scipy/spatial/distance.py:720: RuntimeWarning: invalid value encountered in double_scalars\n",
            "  dist = 1.0 - uv / np.sqrt(uu * vv)\n",
            "100%|██████████| 40/40 [18:03<00:00, 27.09s/it]\n"
          ]
        }
      ]
    },
    {
      "cell_type": "code",
      "source": [
        "print(\"Sanity check\")\n",
        "vecs1 = []\n",
        "for qu1 in tqdm(list(df['question1'][100:110])):\n",
        "    doc1 = spacy_model(qu1)\n",
        "    mean_vec1 = np.zeros(len(doc1[0].vector))\n",
        "    for word1 in doc1:\n",
        "        vec1 = word1.vector\n",
        "        mean_vec1 += vec1\n",
        "\n",
        "    mean_vec1 = mean_vec1/len(qu1.split())\n",
        "    vecs1.append(mean_vec1)\n",
        "\n",
        "vecs2 = []\n",
        "for qu2 in tqdm(list(df['question2'][100:110])):\n",
        "    doc2 = spacy_model(qu2)\n",
        "    mean_vec2 = np.zeros(len(doc2[0].vector))\n",
        "\n",
        "    for word2 in doc2:\n",
        "        vec2 = word2.vector\n",
        "        mean_vec2 += vec2\n",
        "\n",
        "    mean_vec2 = mean_vec2/len(qu2.split())\n",
        "    vecs2.append(mean_vec2)\n",
        "\n",
        "result = [1 - spatial.distance.cosine(vecs1[q_index], vecs2[q_index]) for q_index in range(len(vecs1))]\n",
        "print(f\"Cosine similarity for random 10 questions using spacy : {result}\")\n",
        "\n",
        "print(f\"From the calculated list : {cosine_similarity[100:110]}\")"
      ],
      "metadata": {
        "id": "_2x6UHp_6LuI"
      },
      "execution_count": null,
      "outputs": []
    },
    {
      "cell_type": "code",
      "source": [
        "df['cosine_similarity'] = cosine_similarity"
      ],
      "metadata": {
        "id": "G1XMl0KTSGWP"
      },
      "execution_count": null,
      "outputs": []
    },
    {
      "cell_type": "code",
      "source": [
        "pd.set_option('display.max_columns', None)\n",
        "df.head(2)"
      ],
      "metadata": {
        "colab": {
          "base_uri": "https://localhost:8080/",
          "height": 332
        },
        "id": "ntZrFQHeCVlz",
        "outputId": "d7cf46b7-5e7b-4dfd-f38b-c0fcb3c809ff"
      },
      "execution_count": null,
      "outputs": [
        {
          "output_type": "execute_result",
          "data": {
            "text/plain": [
              "   Unnamed: 0  Unnamed: 0.1  id  qid1  qid2  \\\n",
              "0           0             0   0     1     2   \n",
              "1           1             1   1     3     4   \n",
              "\n",
              "                                           question1  \\\n",
              "0  what is the step by step guide to invest in sh...   \n",
              "1  what is the story of kohinoor koh i noor diamond    \n",
              "\n",
              "                                           question2  is_duplicate  \\\n",
              "0  what is the step by step guide to invest in sh...             0   \n",
              "1  what would happen if the indian government sto...             0   \n",
              "\n",
              "   length_difference  unique_length_difference  common_words_count  \\\n",
              "0                  2                         1                  10   \n",
              "1                  5                         4                   4   \n",
              "\n",
              "   common_words_share   cwc_min   cwc_max   cnc_min   cnc_max  \\\n",
              "0            0.434783  0.916659  0.785709  0.999980  0.833319   \n",
              "1            0.200000  0.699993  0.466664  0.799984  0.399996   \n",
              "\n",
              "   last_word_equal  first_word_equal  fuzz_ratio  fuzz_partial_ratio  \\\n",
              "0                0                 1          93                 100   \n",
              "1                0                 1          65                  73   \n",
              "\n",
              "   fuzz_token_sort_ratio  fuzz_token_set_ratio  cosine_similarity  \n",
              "0                     93                   100           0.985097  \n",
              "1                     63                    86           0.896264  "
            ],
            "text/html": [
              "\n",
              "  <div id=\"df-58c32680-9fbb-4aed-a4b0-ebeeb88e908c\">\n",
              "    <div class=\"colab-df-container\">\n",
              "      <div>\n",
              "<style scoped>\n",
              "    .dataframe tbody tr th:only-of-type {\n",
              "        vertical-align: middle;\n",
              "    }\n",
              "\n",
              "    .dataframe tbody tr th {\n",
              "        vertical-align: top;\n",
              "    }\n",
              "\n",
              "    .dataframe thead th {\n",
              "        text-align: right;\n",
              "    }\n",
              "</style>\n",
              "<table border=\"1\" class=\"dataframe\">\n",
              "  <thead>\n",
              "    <tr style=\"text-align: right;\">\n",
              "      <th></th>\n",
              "      <th>Unnamed: 0</th>\n",
              "      <th>Unnamed: 0.1</th>\n",
              "      <th>id</th>\n",
              "      <th>qid1</th>\n",
              "      <th>qid2</th>\n",
              "      <th>question1</th>\n",
              "      <th>question2</th>\n",
              "      <th>is_duplicate</th>\n",
              "      <th>length_difference</th>\n",
              "      <th>unique_length_difference</th>\n",
              "      <th>common_words_count</th>\n",
              "      <th>common_words_share</th>\n",
              "      <th>cwc_min</th>\n",
              "      <th>cwc_max</th>\n",
              "      <th>cnc_min</th>\n",
              "      <th>cnc_max</th>\n",
              "      <th>last_word_equal</th>\n",
              "      <th>first_word_equal</th>\n",
              "      <th>fuzz_ratio</th>\n",
              "      <th>fuzz_partial_ratio</th>\n",
              "      <th>fuzz_token_sort_ratio</th>\n",
              "      <th>fuzz_token_set_ratio</th>\n",
              "      <th>cosine_similarity</th>\n",
              "    </tr>\n",
              "  </thead>\n",
              "  <tbody>\n",
              "    <tr>\n",
              "      <th>0</th>\n",
              "      <td>0</td>\n",
              "      <td>0</td>\n",
              "      <td>0</td>\n",
              "      <td>1</td>\n",
              "      <td>2</td>\n",
              "      <td>what is the step by step guide to invest in sh...</td>\n",
              "      <td>what is the step by step guide to invest in sh...</td>\n",
              "      <td>0</td>\n",
              "      <td>2</td>\n",
              "      <td>1</td>\n",
              "      <td>10</td>\n",
              "      <td>0.434783</td>\n",
              "      <td>0.916659</td>\n",
              "      <td>0.785709</td>\n",
              "      <td>0.999980</td>\n",
              "      <td>0.833319</td>\n",
              "      <td>0</td>\n",
              "      <td>1</td>\n",
              "      <td>93</td>\n",
              "      <td>100</td>\n",
              "      <td>93</td>\n",
              "      <td>100</td>\n",
              "      <td>0.985097</td>\n",
              "    </tr>\n",
              "    <tr>\n",
              "      <th>1</th>\n",
              "      <td>1</td>\n",
              "      <td>1</td>\n",
              "      <td>1</td>\n",
              "      <td>3</td>\n",
              "      <td>4</td>\n",
              "      <td>what is the story of kohinoor koh i noor diamond</td>\n",
              "      <td>what would happen if the indian government sto...</td>\n",
              "      <td>0</td>\n",
              "      <td>5</td>\n",
              "      <td>4</td>\n",
              "      <td>4</td>\n",
              "      <td>0.200000</td>\n",
              "      <td>0.699993</td>\n",
              "      <td>0.466664</td>\n",
              "      <td>0.799984</td>\n",
              "      <td>0.399996</td>\n",
              "      <td>0</td>\n",
              "      <td>1</td>\n",
              "      <td>65</td>\n",
              "      <td>73</td>\n",
              "      <td>63</td>\n",
              "      <td>86</td>\n",
              "      <td>0.896264</td>\n",
              "    </tr>\n",
              "  </tbody>\n",
              "</table>\n",
              "</div>\n",
              "      <button class=\"colab-df-convert\" onclick=\"convertToInteractive('df-58c32680-9fbb-4aed-a4b0-ebeeb88e908c')\"\n",
              "              title=\"Convert this dataframe to an interactive table.\"\n",
              "              style=\"display:none;\">\n",
              "        \n",
              "  <svg xmlns=\"http://www.w3.org/2000/svg\" height=\"24px\"viewBox=\"0 0 24 24\"\n",
              "       width=\"24px\">\n",
              "    <path d=\"M0 0h24v24H0V0z\" fill=\"none\"/>\n",
              "    <path d=\"M18.56 5.44l.94 2.06.94-2.06 2.06-.94-2.06-.94-.94-2.06-.94 2.06-2.06.94zm-11 1L8.5 8.5l.94-2.06 2.06-.94-2.06-.94L8.5 2.5l-.94 2.06-2.06.94zm10 10l.94 2.06.94-2.06 2.06-.94-2.06-.94-.94-2.06-.94 2.06-2.06.94z\"/><path d=\"M17.41 7.96l-1.37-1.37c-.4-.4-.92-.59-1.43-.59-.52 0-1.04.2-1.43.59L10.3 9.45l-7.72 7.72c-.78.78-.78 2.05 0 2.83L4 21.41c.39.39.9.59 1.41.59.51 0 1.02-.2 1.41-.59l7.78-7.78 2.81-2.81c.8-.78.8-2.07 0-2.86zM5.41 20L4 18.59l7.72-7.72 1.47 1.35L5.41 20z\"/>\n",
              "  </svg>\n",
              "      </button>\n",
              "      \n",
              "  <style>\n",
              "    .colab-df-container {\n",
              "      display:flex;\n",
              "      flex-wrap:wrap;\n",
              "      gap: 12px;\n",
              "    }\n",
              "\n",
              "    .colab-df-convert {\n",
              "      background-color: #E8F0FE;\n",
              "      border: none;\n",
              "      border-radius: 50%;\n",
              "      cursor: pointer;\n",
              "      display: none;\n",
              "      fill: #1967D2;\n",
              "      height: 32px;\n",
              "      padding: 0 0 0 0;\n",
              "      width: 32px;\n",
              "    }\n",
              "\n",
              "    .colab-df-convert:hover {\n",
              "      background-color: #E2EBFA;\n",
              "      box-shadow: 0px 1px 2px rgba(60, 64, 67, 0.3), 0px 1px 3px 1px rgba(60, 64, 67, 0.15);\n",
              "      fill: #174EA6;\n",
              "    }\n",
              "\n",
              "    [theme=dark] .colab-df-convert {\n",
              "      background-color: #3B4455;\n",
              "      fill: #D2E3FC;\n",
              "    }\n",
              "\n",
              "    [theme=dark] .colab-df-convert:hover {\n",
              "      background-color: #434B5C;\n",
              "      box-shadow: 0px 1px 3px 1px rgba(0, 0, 0, 0.15);\n",
              "      filter: drop-shadow(0px 1px 2px rgba(0, 0, 0, 0.3));\n",
              "      fill: #FFFFFF;\n",
              "    }\n",
              "  </style>\n",
              "\n",
              "      <script>\n",
              "        const buttonEl =\n",
              "          document.querySelector('#df-58c32680-9fbb-4aed-a4b0-ebeeb88e908c button.colab-df-convert');\n",
              "        buttonEl.style.display =\n",
              "          google.colab.kernel.accessAllowed ? 'block' : 'none';\n",
              "\n",
              "        async function convertToInteractive(key) {\n",
              "          const element = document.querySelector('#df-58c32680-9fbb-4aed-a4b0-ebeeb88e908c');\n",
              "          const dataTable =\n",
              "            await google.colab.kernel.invokeFunction('convertToInteractive',\n",
              "                                                     [key], {});\n",
              "          if (!dataTable) return;\n",
              "\n",
              "          const docLinkHtml = 'Like what you see? Visit the ' +\n",
              "            '<a target=\"_blank\" href=https://colab.research.google.com/notebooks/data_table.ipynb>data table notebook</a>'\n",
              "            + ' to learn more about interactive tables.';\n",
              "          element.innerHTML = '';\n",
              "          dataTable['output_type'] = 'display_data';\n",
              "          await google.colab.output.renderOutput(dataTable, element);\n",
              "          const docLink = document.createElement('div');\n",
              "          docLink.innerHTML = docLinkHtml;\n",
              "          element.appendChild(docLink);\n",
              "        }\n",
              "      </script>\n",
              "    </div>\n",
              "  </div>\n",
              "  "
            ]
          },
          "metadata": {},
          "execution_count": 14
        }
      ]
    },
    {
      "cell_type": "markdown",
      "source": [
        "#### Saving dataframe to csv"
      ],
      "metadata": {
        "id": "h9JpW8EaGJtN"
      }
    },
    {
      "cell_type": "code",
      "source": [
        "df.to_csv(parent_folder + \"/\" + \"train_fe_3.csv\")"
      ],
      "metadata": {
        "id": "Bh-Nw0L-CXeg"
      },
      "execution_count": null,
      "outputs": []
    },
    {
      "cell_type": "code",
      "source": [
        ""
      ],
      "metadata": {
        "id": "jUWhGgI_9gvI"
      },
      "execution_count": null,
      "outputs": []
    }
  ]
}